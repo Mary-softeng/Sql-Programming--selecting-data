{
  "nbformat": 4,
  "nbformat_minor": 0,
  "metadata": {
    "colab": {
      "name": "Copy of SQL Programming - Selecting & Retrieving Data with SQL",
      "provenance": [],
      "collapsed_sections": []
    },
    "kernelspec": {
      "name": "python3",
      "display_name": "Python 3"
    },
    "accelerator": "GPU"
  },
  "cells": [
    {
      "cell_type": "markdown",
      "metadata": {
        "id": "iHn_rVx9AQbH"
      },
      "source": [
        "<font color=\"green\">*To start working on this notebook, or any other notebook that we will use in the Moringa Data Science Course, we will need to save our own copy of it. We can do this by clicking File > Save a Copy in Drive. We will then be able to make edits to our own copy of this notebook.*</font>"
      ]
    },
    {
      "cell_type": "markdown",
      "metadata": {
        "id": "vNuevLakwO1D"
      },
      "source": [
        "# Selecting & Retrieving Data with SQL"
      ]
    },
    {
      "cell_type": "markdown",
      "metadata": {
        "id": "1nDHMRqtg1nd"
      },
      "source": [
        "## 1.1 Let's first connect to our Database "
      ]
    },
    {
      "cell_type": "code",
      "metadata": {
        "id": "KEeQqc_32_uy",
        "colab": {
          "base_uri": "https://localhost:8080/",
          "height": 35
        },
        "outputId": "061c84ad-69b8-4743-84d6-04db2d0364c8"
      },
      "source": [
        "# We will first load the sql extension into our environment\n",
        "#\n",
        "%load_ext sql\n",
        "\n",
        "# Then connect to our in memory sqlite database\n",
        "# NB: This database will cease to exist as soon as the database connection is closed\n",
        "#\n",
        "%sql sqlite://"
      ],
      "execution_count": null,
      "outputs": [
        {
          "output_type": "execute_result",
          "data": {
            "application/vnd.google.colaboratory.intrinsic+json": {
              "type": "string"
            },
            "text/plain": [
              "'Connected: @None'"
            ]
          },
          "metadata": {},
          "execution_count": 2
        }
      ]
    },
    {
      "cell_type": "markdown",
      "metadata": {
        "id": "5NiauWDEtyQT"
      },
      "source": [
        "## 1.2 Importing Data From a CSV File"
      ]
    },
    {
      "cell_type": "code",
      "metadata": {
        "id": "Y3U2kqH_6StD"
      },
      "source": [
        "# Importing the python libraries that we will need in this notebook\n",
        "#\n",
        "import csv\n",
        "import pandas as pd"
      ],
      "execution_count": null,
      "outputs": []
    },
    {
      "cell_type": "markdown",
      "metadata": {
        "id": "a_pFRGcMOBpq"
      },
      "source": [
        "Then we will download our csv file from Interpol: [here](https://bit.ly/InterpolDataset) and World Cup [here](http://bit.ly/MSWorldCupData)  . Open the link and then on our browser  Click File > Save Page As > Save. Lastly, upload it to our current environment on Colaboratory by clicking View > Table of Contents > Files then Upload.  (NB: Do not load file from url)"
      ]
    },
    {
      "cell_type": "code",
      "metadata": {
        "id": "z6U_gvHB5d_R"
      },
      "source": [
        "# Loading the first table from a local CSV file\n",
        "#\n",
        "with open('Countries.csv','r') as f:\n",
        "    Interpol = pd.read_csv(f, index_col=0, encoding='utf-8') \n",
        "\n",
        "# Then storing it in an SQL table of our in memory sqlite database\n",
        "#\n",
        "%sql DROP TABLE if EXISTS Interpol;\n",
        "%sql PERSIST Interpol;"
      ],
      "execution_count": null,
      "outputs": []
    },
    {
      "cell_type": "code",
      "metadata": {
        "id": "rGMna3Px9tfO",
        "colab": {
          "base_uri": "https://localhost:8080/",
          "height": 86
        },
        "outputId": "76fb04f2-a7d7-4439-cf4f-afaefb9674ca"
      },
      "source": [
        ""
      ],
      "execution_count": null,
      "outputs": [
        {
          "output_type": "stream",
          "text": [
            " * sqlite://\n",
            "Done.\n",
            " * sqlite://\n"
          ],
          "name": "stdout"
        },
        {
          "output_type": "execute_result",
          "data": {
            "application/vnd.google.colaboratory.intrinsic": {
              "type": "string"
            },
            "text/plain": [
              "'Persisted interpol'"
            ]
          },
          "metadata": {
            "tags": []
          },
          "execution_count": 7
        }
      ]
    },
    {
      "cell_type": "code",
      "metadata": {
        "id": "50wIaXuDt6FF",
        "colab": {
          "base_uri": "https://localhost:8080/",
          "height": 87
        },
        "outputId": "6de1ce73-1dcd-4726-a86b-41c90401c28d"
      },
      "source": [
        "# We will load all the other dataset that we will need i.e. WorldCup\n",
        "#\n",
        "with open('WorldCup.csv','r') as f:\n",
        "    WorldCup = pd.read_csv(f, index_col=0, encoding='utf-8') \n",
        "    \n",
        "%sql DROP TABLE if EXISTS WorldCup;\n",
        "%sql PERSIST WorldCup;       "
      ],
      "execution_count": null,
      "outputs": [
        {
          "output_type": "stream",
          "name": "stdout",
          "text": [
            " * sqlite://\n",
            "Done.\n",
            " * sqlite://\n"
          ]
        },
        {
          "output_type": "execute_result",
          "data": {
            "application/vnd.google.colaboratory.intrinsic+json": {
              "type": "string"
            },
            "text/plain": [
              "'Persisted worldcup'"
            ]
          },
          "metadata": {},
          "execution_count": 5
        }
      ]
    },
    {
      "cell_type": "code",
      "metadata": {
        "id": "q_WlNo73PNx5"
      },
      "source": [
        "# Let's preview our Interpol table so that we can understand it\n",
        "# Try to understand all the attributes (i.e columns) since this\n",
        "# will be one of the datasets that we will work with through this session\n",
        "#\n",
        "%sql select * from Interpol limit 5;"
      ],
      "execution_count": null,
      "outputs": []
    },
    {
      "cell_type": "code",
      "metadata": {
        "id": "0efzyGvIPpxW"
      },
      "source": [
        "# Let's preview our Worldcup table so that we can also understand it.\n",
        "# You will be acting as a football commentator performing research on the \n",
        "# world cup matches played in the past.\n",
        "# \n",
        "%sql SELECT * FROM WorldCup limit 5; "
      ],
      "execution_count": null,
      "outputs": []
    },
    {
      "cell_type": "markdown",
      "metadata": {
        "id": "V2bBqgpywagu"
      },
      "source": [
        "## 1.3 Select Single Columns\n",
        " "
      ]
    },
    {
      "cell_type": "code",
      "metadata": {
        "id": "-tS9qSbtyDte"
      },
      "source": [
        "# Example 1\n",
        "# This is how we will select a single column (i.e. the Country Column) from the Interpol Dataset\n",
        "#\n",
        "%%sql\n",
        "SELECT Country FROM Interpol;"
      ],
      "execution_count": null,
      "outputs": []
    },
    {
      "cell_type": "code",
      "metadata": {
        "id": "OmKAoVo-yDjJ",
        "colab": {
          "base_uri": "https://localhost:8080/",
          "height": 75
        },
        "outputId": "ed51f1c1-ed54-45f7-c197-34d7fe20a1e0"
      },
      "source": [
        "# Example 2\n",
        "# Let's get the European countries without National fugitives  \n",
        "# \n",
        "%%sql\n",
        "SELECT Country FROM Interpol\n",
        "WHERE 'National Fugitives' = 0 AND Region = 'Europe'"
      ],
      "execution_count": null,
      "outputs": [
        {
          "output_type": "stream",
          "name": "stdout",
          "text": [
            " * sqlite://\n",
            "Done.\n"
          ]
        },
        {
          "output_type": "execute_result",
          "data": {
            "text/html": [
              "<table>\n",
              "    <thead>\n",
              "        <tr>\n",
              "            <th>Country</th>\n",
              "        </tr>\n",
              "    </thead>\n",
              "    <tbody>\n",
              "    </tbody>\n",
              "</table>"
            ],
            "text/plain": [
              "[]"
            ]
          },
          "metadata": {},
          "execution_count": 9
        }
      ]
    },
    {
      "cell_type": "code",
      "metadata": {
        "id": "Trjt913gyDOF",
        "colab": {
          "base_uri": "https://localhost:8080/",
          "height": 75
        },
        "outputId": "908dfd62-21a5-4570-ead1-e1b60f2879e2"
      },
      "source": [
        "# Example 3\n",
        "# Let's select the regions without National fugitives\n",
        "#\n",
        "%%sql\n",
        "SELECT Region FROM Interpol\n",
        "WHERE 'National Fugitives' = 0 Wanted Fugitives"
      ],
      "execution_count": null,
      "outputs": [
        {
          "output_type": "stream",
          "name": "stdout",
          "text": [
            " * sqlite://\n",
            "Done.\n"
          ]
        },
        {
          "output_type": "execute_result",
          "data": {
            "text/html": [
              "<table>\n",
              "    <thead>\n",
              "        <tr>\n",
              "            <th>Region</th>\n",
              "        </tr>\n",
              "    </thead>\n",
              "    <tbody>\n",
              "    </tbody>\n",
              "</table>"
            ],
            "text/plain": [
              "[]"
            ]
          },
          "metadata": {},
          "execution_count": 30
        }
      ]
    },
    {
      "cell_type": "markdown",
      "metadata": {
        "id": "5StEYulTyETT"
      },
      "source": [
        "### <font color=\"green\"> 1.3 Challenges</font>"
      ]
    },
    {
      "cell_type": "code",
      "metadata": {
        "id": "nV7AQstWyPsy",
        "colab": {
          "base_uri": "https://localhost:8080/",
          "height": 131
        },
        "outputId": "653407df-cad8-457e-e0d9-12cefe553d1b"
      },
      "source": [
        "# Challenge 1\n",
        "# Using the Interpol Dataset, let us get the Northern African countries that  \n",
        "# do not host possible fugitives or captured fugitives\n",
        "# \n",
        "\n",
        "%%sql\n",
        "SELECT * FROM Interpol Where Region = \"Northern Africa\" AND \"National Fugitives\" = 0"
      ],
      "execution_count": null,
      "outputs": [
        {
          "output_type": "stream",
          "name": "stdout",
          "text": [
            " * sqlite://\n",
            "Done.\n"
          ]
        },
        {
          "output_type": "execute_result",
          "data": {
            "text/html": [
              "<table>\n",
              "    <thead>\n",
              "        <tr>\n",
              "            <th>Country</th>\n",
              "            <th>National Fugitives</th>\n",
              "            <th>Wanted Fugitives</th>\n",
              "            <th>Possible Hosted Fugitives / Captured Fugitives</th>\n",
              "            <th>Region</th>\n",
              "            <th>Flag</th>\n",
              "        </tr>\n",
              "    </thead>\n",
              "    <tbody>\n",
              "        <tr>\n",
              "            <td>Angola</td>\n",
              "            <td>0</td>\n",
              "            <td>0</td>\n",
              "            <td>1</td>\n",
              "            <td>Northern Africa</td>\n",
              "            <td>http://www.crwflags.com/fotw/images/a/ao.gif</td>\n",
              "        </tr>\n",
              "    </tbody>\n",
              "</table>"
            ],
            "text/plain": [
              "[('Angola', 0, 0, 1, 'Northern Africa', 'http://www.crwflags.com/fotw/images/a/ao.gif')]"
            ]
          },
          "metadata": {},
          "execution_count": 39
        }
      ]
    },
    {
      "cell_type": "code",
      "metadata": {
        "id": "g6yi8HaFyPeA",
        "colab": {
          "base_uri": "https://localhost:8080/",
          "height": 329
        },
        "outputId": "4a2939dc-89d3-42f8-ccc8-db00597ce510"
      },
      "source": [
        "# Challenge 2\n",
        "# Using the Interpol Dataset, let us get the countries without a National fugitive and a Wanted fugitive\n",
        "#\n",
        "\n",
        "%%sql\n",
        "SELECT * FROM Interpol Where \"National Fugitives\" = 0 AND \"Wanted Fugitives\" = 1"
      ],
      "execution_count": null,
      "outputs": [
        {
          "output_type": "stream",
          "name": "stdout",
          "text": [
            " * sqlite://\n",
            "Done.\n"
          ]
        },
        {
          "output_type": "execute_result",
          "data": {
            "text/html": [
              "<table>\n",
              "    <thead>\n",
              "        <tr>\n",
              "            <th>Country</th>\n",
              "            <th>National Fugitives</th>\n",
              "            <th>Wanted Fugitives</th>\n",
              "            <th>Possible Hosted Fugitives / Captured Fugitives</th>\n",
              "            <th>Region</th>\n",
              "            <th>Flag</th>\n",
              "        </tr>\n",
              "    </thead>\n",
              "    <tbody>\n",
              "        <tr>\n",
              "            <td>Botswana</td>\n",
              "            <td>0</td>\n",
              "            <td>1</td>\n",
              "            <td>1</td>\n",
              "            <td>Southern Africa</td>\n",
              "            <td>http://www.crwflags.com/fotw/images/b/bw.gif</td>\n",
              "        </tr>\n",
              "        <tr>\n",
              "            <td>Costa Rica</td>\n",
              "            <td>0</td>\n",
              "            <td>1</td>\n",
              "            <td>2</td>\n",
              "            <td>Central America</td>\n",
              "            <td>http://www.crwflags.com/fotw/images/c/cr.gif</td>\n",
              "        </tr>\n",
              "        <tr>\n",
              "            <td>Curaçao</td>\n",
              "            <td>0</td>\n",
              "            <td>1</td>\n",
              "            <td>0</td>\n",
              "            <td>Central America</td>\n",
              "            <td>http://www.crwflags.com/fotw/images/c/cw.gif</td>\n",
              "        </tr>\n",
              "        <tr>\n",
              "            <td>Mali</td>\n",
              "            <td>0</td>\n",
              "            <td>1</td>\n",
              "            <td>0</td>\n",
              "            <td>Sub Saharan Africa</td>\n",
              "            <td>http://www.crwflags.com/fotw/images/m/ml.gif</td>\n",
              "        </tr>\n",
              "        <tr>\n",
              "            <td>Norway</td>\n",
              "            <td>0</td>\n",
              "            <td>1</td>\n",
              "            <td>0</td>\n",
              "            <td>Europe</td>\n",
              "            <td>http://www.crwflags.com/fotw/images/n/no.gif</td>\n",
              "        </tr>\n",
              "        <tr>\n",
              "            <td>Tanzania</td>\n",
              "            <td>0</td>\n",
              "            <td>1</td>\n",
              "            <td>2</td>\n",
              "            <td>Sub Saharan Africa</td>\n",
              "            <td>http://www.crwflags.com/fotw/images/t/tz.gif</td>\n",
              "        </tr>\n",
              "        <tr>\n",
              "            <td>Venezuela</td>\n",
              "            <td>0</td>\n",
              "            <td>1</td>\n",
              "            <td>0</td>\n",
              "            <td>South America</td>\n",
              "            <td>http://www.crwflags.com/fotw/images/v/ve.gif</td>\n",
              "        </tr>\n",
              "    </tbody>\n",
              "</table>"
            ],
            "text/plain": [
              "[('Botswana', 0, 1, 1, 'Southern Africa', 'http://www.crwflags.com/fotw/images/b/bw.gif'),\n",
              " ('Costa Rica', 0, 1, 2, 'Central America', 'http://www.crwflags.com/fotw/images/c/cr.gif'),\n",
              " ('Curaçao', 0, 1, 0, 'Central America', 'http://www.crwflags.com/fotw/images/c/cw.gif'),\n",
              " ('Mali', 0, 1, 0, 'Sub Saharan Africa', 'http://www.crwflags.com/fotw/images/m/ml.gif'),\n",
              " ('Norway', 0, 1, 0, 'Europe', 'http://www.crwflags.com/fotw/images/n/no.gif'),\n",
              " ('Tanzania', 0, 1, 2, 'Sub Saharan Africa', 'http://www.crwflags.com/fotw/images/t/tz.gif'),\n",
              " ('Venezuela', 0, 1, 0, 'South America', 'http://www.crwflags.com/fotw/images/v/ve.gif')]"
            ]
          },
          "metadata": {},
          "execution_count": 33
        }
      ]
    },
    {
      "cell_type": "code",
      "metadata": {
        "id": "ZvIo11YvyPTn",
        "colab": {
          "base_uri": "https://localhost:8080/",
          "height": 174
        },
        "outputId": "c5688131-0900-46a5-d500-e73989ddb6fb"
      },
      "source": [
        "# Challenge 3\n",
        "# Using the Interpol Dataset, which european countries have 3 National Fugitives\n",
        "# \n",
        "\n",
        "%%sql\n",
        "SELECT * FROM Interpol Where \"National Fugitives\" =3 AND \"Region\" = 'Europe'"
      ],
      "execution_count": null,
      "outputs": [
        {
          "output_type": "stream",
          "name": "stdout",
          "text": [
            " * sqlite://\n",
            "Done.\n"
          ]
        },
        {
          "output_type": "execute_result",
          "data": {
            "text/html": [
              "<table>\n",
              "    <thead>\n",
              "        <tr>\n",
              "            <th>Country</th>\n",
              "            <th>National Fugitives</th>\n",
              "            <th>Wanted Fugitives</th>\n",
              "            <th>Possible Hosted Fugitives / Captured Fugitives</th>\n",
              "            <th>Region</th>\n",
              "            <th>Flag</th>\n",
              "        </tr>\n",
              "    </thead>\n",
              "    <tbody>\n",
              "        <tr>\n",
              "            <td>Albania</td>\n",
              "            <td>3</td>\n",
              "            <td>3</td>\n",
              "            <td>0</td>\n",
              "            <td>Europe</td>\n",
              "            <td>http://www.crwflags.com/fotw/images/a/al.gif</td>\n",
              "        </tr>\n",
              "        <tr>\n",
              "            <td>Czech Republic</td>\n",
              "            <td>3</td>\n",
              "            <td>3</td>\n",
              "            <td>0</td>\n",
              "            <td>Europe</td>\n",
              "            <td>http://www.crwflags.com/fotw/images/c/cz.gif</td>\n",
              "        </tr>\n",
              "        <tr>\n",
              "            <td>Montenegro</td>\n",
              "            <td>3</td>\n",
              "            <td>2</td>\n",
              "            <td>1</td>\n",
              "            <td>Europe</td>\n",
              "            <td>http://www.crwflags.com/fotw/images/m/me.gif</td>\n",
              "        </tr>\n",
              "    </tbody>\n",
              "</table>"
            ],
            "text/plain": [
              "[('Albania', 3, 3, 0, 'Europe', 'http://www.crwflags.com/fotw/images/a/al.gif'),\n",
              " ('Czech Republic', 3, 3, 0, 'Europe', 'http://www.crwflags.com/fotw/images/c/cz.gif'),\n",
              " ('Montenegro', 3, 2, 1, 'Europe', 'http://www.crwflags.com/fotw/images/m/me.gif')]"
            ]
          },
          "metadata": {},
          "execution_count": 37
        }
      ]
    },
    {
      "cell_type": "markdown",
      "metadata": {
        "id": "RfMZY5FixNp9"
      },
      "source": [
        "## 1.4 Multiple columns\n"
      ]
    },
    {
      "cell_type": "code",
      "metadata": {
        "id": "BJwoKj8WyXm3"
      },
      "source": [
        "# Example 1\n",
        "# Using the Interpol dataset, we would like to know the countries and their respective No. of Captured fugitives.\n",
        "#\n",
        "%%sql\n",
        "SELECT Country, \"Possible Hosted Fugitives / Captured Fugitives\" FROM Interpol;"
      ],
      "execution_count": null,
      "outputs": []
    },
    {
      "cell_type": "code",
      "metadata": {
        "id": "npFZQVKpyXfX"
      },
      "source": [
        "# Example 2\n",
        "# Using the world cup dataset, let's get teams that played in the matches with their respective referee\n",
        "# \n",
        "%%sql\n",
        "SELECT \"Home_Team_Name\", \"Away_Team_Name\", Referee FROM WorldCup LIMIT 5;"
      ],
      "execution_count": null,
      "outputs": []
    },
    {
      "cell_type": "code",
      "metadata": {
        "id": "WoYn3-BJyXWB",
        "colab": {
          "base_uri": "https://localhost:8080/",
          "height": 263
        },
        "outputId": "0cd60c38-988a-4663-a13e-8a8c3d2d17e4"
      },
      "source": [
        "# Example 3\n",
        "# Find out any three matches that have had 5 away goals  \n",
        "#\n",
        "%%sql\n",
        "SELECT * FROM WorldCup Where \"Away_Team_Goals\" = 5 LIMIT 3"
      ],
      "execution_count": null,
      "outputs": [
        {
          "output_type": "stream",
          "name": "stdout",
          "text": [
            " * sqlite://\n",
            "Done.\n"
          ]
        },
        {
          "output_type": "execute_result",
          "data": {
            "text/html": [
              "<table>\n",
              "    <thead>\n",
              "        <tr>\n",
              "            <th>Year</th>\n",
              "            <th>Datetime</th>\n",
              "            <th>Stage</th>\n",
              "            <th>Stadium</th>\n",
              "            <th>City</th>\n",
              "            <th>Home_Team_Name</th>\n",
              "            <th>Home_Team_Goals</th>\n",
              "            <th>Away_Team_Goals</th>\n",
              "            <th>Away_Team_Name</th>\n",
              "            <th>Win_conditions</th>\n",
              "            <th>Attendance</th>\n",
              "            <th>Halftime_Home_Goals</th>\n",
              "            <th>Halftime_Away_Goals</th>\n",
              "            <th>Referee</th>\n",
              "            <th>Assistant1</th>\n",
              "            <th>Assistant2</th>\n",
              "            <th>RoundID</th>\n",
              "            <th>MatchID</th>\n",
              "            <th>Home_Team_Initials</th>\n",
              "            <th>Away_Team_Initials</th>\n",
              "        </tr>\n",
              "    </thead>\n",
              "    <tbody>\n",
              "        <tr>\n",
              "            <td>1938</td>\n",
              "            <td>05 Jun 1938 - 17:30 </td>\n",
              "            <td>First round</td>\n",
              "            <td>Stade de la Meinau</td>\n",
              "            <td>Strasbourg </td>\n",
              "            <td>Brazil</td>\n",
              "            <td>6</td>\n",
              "            <td>5</td>\n",
              "            <td>Poland</td>\n",
              "            <td>Brazil win after extra time </td>\n",
              "            <td>13452.0</td>\n",
              "            <td>0</td>\n",
              "            <td>0</td>\n",
              "            <td>EKLIND Ivan (SWE)</td>\n",
              "            <td>POISSANT Louis (FRA)</td>\n",
              "            <td>KISSENBERGER Ernest (FRA)</td>\n",
              "            <td>206</td>\n",
              "            <td>1150</td>\n",
              "            <td>BRA</td>\n",
              "            <td>POL</td>\n",
              "        </tr>\n",
              "        <tr>\n",
              "            <td>1954</td>\n",
              "            <td>26 Jun 1954 - 17:00 </td>\n",
              "            <td>Quarter-finals</td>\n",
              "            <td>La Pontaise</td>\n",
              "            <td>Lausanne </td>\n",
              "            <td>Austria</td>\n",
              "            <td>7</td>\n",
              "            <td>5</td>\n",
              "            <td>Switzerland</td>\n",
              "            <td> </td>\n",
              "            <td>35000.0</td>\n",
              "            <td>5</td>\n",
              "            <td>4</td>\n",
              "            <td>FAULTLESS Charlie (SCO)</td>\n",
              "            <td>ASENSI Manuel (ESP)</td>\n",
              "            <td>SCHMETZER Emil (FRG)</td>\n",
              "            <td>212</td>\n",
              "            <td>1237</td>\n",
              "            <td>AUT</td>\n",
              "            <td>SUI</td>\n",
              "        </tr>\n",
              "        <tr>\n",
              "            <td>1986</td>\n",
              "            <td>18 Jun 1986 - 16:00 </td>\n",
              "            <td>Round of 16</td>\n",
              "            <td>Estadio Corregidora</td>\n",
              "            <td>Queretaro </td>\n",
              "            <td>Denmark</td>\n",
              "            <td>1</td>\n",
              "            <td>5</td>\n",
              "            <td>Spain</td>\n",
              "            <td> </td>\n",
              "            <td>38500.0</td>\n",
              "            <td>1</td>\n",
              "            <td>1</td>\n",
              "            <td>KEIZER Jan (NED)</td>\n",
              "            <td>BENNACEUR Ali (TUN)</td>\n",
              "            <td>DOTCHEV Bogdan (BUL)</td>\n",
              "            <td>309</td>\n",
              "            <td>511</td>\n",
              "            <td>DEN</td>\n",
              "            <td>ESP</td>\n",
              "        </tr>\n",
              "    </tbody>\n",
              "</table>"
            ],
            "text/plain": [
              "[(1938, '05 Jun 1938 - 17:30 ', 'First round', 'Stade de la Meinau', 'Strasbourg ', 'Brazil', 6, 5, 'Poland', 'Brazil win after extra time ', 13452.0, 0, 0, 'EKLIND Ivan (SWE)', 'POISSANT Louis (FRA)', 'KISSENBERGER Ernest (FRA)', 206, 1150, 'BRA', 'POL'),\n",
              " (1954, '26 Jun 1954 - 17:00 ', 'Quarter-finals', 'La Pontaise', 'Lausanne ', 'Austria', 7, 5, 'Switzerland', ' ', 35000.0, 5, 4, 'FAULTLESS Charlie (SCO)', 'ASENSI Manuel (ESP)', 'SCHMETZER Emil (FRG)', 212, 1237, 'AUT', 'SUI'),\n",
              " (1986, '18 Jun 1986 - 16:00 ', 'Round of 16', 'Estadio Corregidora', 'Queretaro ', 'Denmark', 1, 5, 'Spain', ' ', 38500.0, 1, 1, 'KEIZER Jan (NED)', 'BENNACEUR Ali (TUN)', 'DOTCHEV Bogdan (BUL)', 309, 511, 'DEN', 'ESP')]"
            ]
          },
          "metadata": {},
          "execution_count": 31
        }
      ]
    },
    {
      "cell_type": "markdown",
      "metadata": {
        "id": "OjBIzvDZycEj"
      },
      "source": [
        "### <font color=\"green\"> 1.4 Challenges</font>"
      ]
    },
    {
      "cell_type": "code",
      "metadata": {
        "id": "Fj-u_o1uyeyY"
      },
      "source": [
        "# Challenge 1\n",
        "# From the Interpol dataset, let's get countries with their respective \n",
        "# No. of National fugitives and Wanted fugitives\n",
        "# \n",
        "%%sql\n",
        "SELECT Country, \"National fugitives\", \"Wanted fugitives\" FROM Interpol;"
      ],
      "execution_count": null,
      "outputs": []
    },
    {
      "cell_type": "code",
      "metadata": {
        "id": "xhYS4NiDyfdJ",
        "colab": {
          "base_uri": "https://localhost:8080/",
          "height": 263
        },
        "outputId": "7037cf51-713d-471d-f6f5-81987c422052"
      },
      "source": [
        "# Challenge 2\n",
        "# Using WorldCup dataset, find out which group 4 world cup matches \n",
        "# that were played in the city of Montevideo \n",
        "#\n",
        "%%sql\n",
        "SELECT * FROM WorldCup \n",
        "WHERE City=\"Montevideo \" AND Stage=\"Group 4\";"
      ],
      "execution_count": null,
      "outputs": [
        {
          "output_type": "stream",
          "name": "stdout",
          "text": [
            " * sqlite://\n",
            "Done.\n"
          ]
        },
        {
          "output_type": "execute_result",
          "data": {
            "text/html": [
              "<table>\n",
              "    <thead>\n",
              "        <tr>\n",
              "            <th>Year</th>\n",
              "            <th>Datetime</th>\n",
              "            <th>Stage</th>\n",
              "            <th>Stadium</th>\n",
              "            <th>City</th>\n",
              "            <th>Home_Team_Name</th>\n",
              "            <th>Home_Team_Goals</th>\n",
              "            <th>Away_Team_Goals</th>\n",
              "            <th>Away_Team_Name</th>\n",
              "            <th>Win_conditions</th>\n",
              "            <th>Attendance</th>\n",
              "            <th>Halftime_Home_Goals</th>\n",
              "            <th>Halftime_Away_Goals</th>\n",
              "            <th>Referee</th>\n",
              "            <th>Assistant1</th>\n",
              "            <th>Assistant2</th>\n",
              "            <th>RoundID</th>\n",
              "            <th>MatchID</th>\n",
              "            <th>Home_Team_Initials</th>\n",
              "            <th>Away_Team_Initials</th>\n",
              "        </tr>\n",
              "    </thead>\n",
              "    <tbody>\n",
              "        <tr>\n",
              "            <td>1930</td>\n",
              "            <td>13 Jul 1930 - 15:00 </td>\n",
              "            <td>Group 4</td>\n",
              "            <td>Parque Central</td>\n",
              "            <td>Montevideo </td>\n",
              "            <td>USA</td>\n",
              "            <td>3</td>\n",
              "            <td>0</td>\n",
              "            <td>Belgium</td>\n",
              "            <td> </td>\n",
              "            <td>18346.0</td>\n",
              "            <td>2</td>\n",
              "            <td>0</td>\n",
              "            <td>MACIAS Jose (ARG)</td>\n",
              "            <td>MATEUCCI Francisco (URU)</td>\n",
              "            <td>WARNKEN Alberto (CHI)</td>\n",
              "            <td>201</td>\n",
              "            <td>1090</td>\n",
              "            <td>USA</td>\n",
              "            <td>BEL</td>\n",
              "        </tr>\n",
              "        <tr>\n",
              "            <td>1930</td>\n",
              "            <td>17 Jul 1930 - 14:45 </td>\n",
              "            <td>Group 4</td>\n",
              "            <td>Parque Central</td>\n",
              "            <td>Montevideo </td>\n",
              "            <td>USA</td>\n",
              "            <td>3</td>\n",
              "            <td>0</td>\n",
              "            <td>Paraguay</td>\n",
              "            <td> </td>\n",
              "            <td>18306.0</td>\n",
              "            <td>2</td>\n",
              "            <td>0</td>\n",
              "            <td>MACIAS Jose (ARG)</td>\n",
              "            <td>APHESTEGUY Martin (URU)</td>\n",
              "            <td>TEJADA Anibal (URU)</td>\n",
              "            <td>201</td>\n",
              "            <td>1097</td>\n",
              "            <td>USA</td>\n",
              "            <td>PAR</td>\n",
              "        </tr>\n",
              "        <tr>\n",
              "            <td>1930</td>\n",
              "            <td>20 Jul 1930 - 15:00 </td>\n",
              "            <td>Group 4</td>\n",
              "            <td>Estadio Centenario</td>\n",
              "            <td>Montevideo </td>\n",
              "            <td>Paraguay</td>\n",
              "            <td>1</td>\n",
              "            <td>0</td>\n",
              "            <td>Belgium</td>\n",
              "            <td> </td>\n",
              "            <td>12000.0</td>\n",
              "            <td>1</td>\n",
              "            <td>0</td>\n",
              "            <td>VALLARINO Ricardo (URU)</td>\n",
              "            <td>MACIAS Jose (ARG)</td>\n",
              "            <td>LOMBARDI Domingo (URU)</td>\n",
              "            <td>201</td>\n",
              "            <td>1089</td>\n",
              "            <td>PAR</td>\n",
              "            <td>BEL</td>\n",
              "        </tr>\n",
              "    </tbody>\n",
              "</table>"
            ],
            "text/plain": [
              "[(1930, '13 Jul 1930 - 15:00 ', 'Group 4', 'Parque Central', 'Montevideo ', 'USA', 3, 0, 'Belgium', ' ', 18346.0, 2, 0, 'MACIAS Jose (ARG)', 'MATEUCCI Francisco (URU)', 'WARNKEN Alberto (CHI)', 201, 1090, 'USA', 'BEL'),\n",
              " (1930, '17 Jul 1930 - 14:45 ', 'Group 4', 'Parque Central', 'Montevideo ', 'USA', 3, 0, 'Paraguay', ' ', 18306.0, 2, 0, 'MACIAS Jose (ARG)', 'APHESTEGUY Martin (URU)', 'TEJADA Anibal (URU)', 201, 1097, 'USA', 'PAR'),\n",
              " (1930, '20 Jul 1930 - 15:00 ', 'Group 4', 'Estadio Centenario', 'Montevideo ', 'Paraguay', 1, 0, 'Belgium', ' ', 12000.0, 1, 0, 'VALLARINO Ricardo (URU)', 'MACIAS Jose (ARG)', 'LOMBARDI Domingo (URU)', 201, 1089, 'PAR', 'BEL')]"
            ]
          },
          "metadata": {},
          "execution_count": 42
        }
      ]
    },
    {
      "cell_type": "code",
      "metadata": {
        "id": "dfU-a65wyfNd",
        "colab": {
          "base_uri": "https://localhost:8080/",
          "height": 230
        },
        "outputId": "a0cb1f82-03cf-4835-82e0-1fa1e17eb751"
      },
      "source": [
        "# Challenge 3\n",
        "# Answering the same question as challenge 2, we would like to get only one match\n",
        "# \n",
        "# OUR CODE GOES HERE\n",
        "WorldCup.head(2)"
      ],
      "execution_count": null,
      "outputs": [
        {
          "output_type": "execute_result",
          "data": {
            "text/html": [
              "<div>\n",
              "<style scoped>\n",
              "    .dataframe tbody tr th:only-of-type {\n",
              "        vertical-align: middle;\n",
              "    }\n",
              "\n",
              "    .dataframe tbody tr th {\n",
              "        vertical-align: top;\n",
              "    }\n",
              "\n",
              "    .dataframe thead th {\n",
              "        text-align: right;\n",
              "    }\n",
              "</style>\n",
              "<table border=\"1\" class=\"dataframe\">\n",
              "  <thead>\n",
              "    <tr style=\"text-align: right;\">\n",
              "      <th></th>\n",
              "      <th>Datetime</th>\n",
              "      <th>Stage</th>\n",
              "      <th>Stadium</th>\n",
              "      <th>City</th>\n",
              "      <th>Home_Team_Name</th>\n",
              "      <th>Home_Team_Goals</th>\n",
              "      <th>Away_Team_Goals</th>\n",
              "      <th>Away_Team_Name</th>\n",
              "      <th>Win_conditions</th>\n",
              "      <th>Attendance</th>\n",
              "      <th>Halftime_Home_Goals</th>\n",
              "      <th>Halftime_Away_Goals</th>\n",
              "      <th>Referee</th>\n",
              "      <th>Assistant1</th>\n",
              "      <th>Assistant2</th>\n",
              "      <th>RoundID</th>\n",
              "      <th>MatchID</th>\n",
              "      <th>Home_Team_Initials</th>\n",
              "      <th>Away_Team_Initials</th>\n",
              "    </tr>\n",
              "    <tr>\n",
              "      <th>Year</th>\n",
              "      <th></th>\n",
              "      <th></th>\n",
              "      <th></th>\n",
              "      <th></th>\n",
              "      <th></th>\n",
              "      <th></th>\n",
              "      <th></th>\n",
              "      <th></th>\n",
              "      <th></th>\n",
              "      <th></th>\n",
              "      <th></th>\n",
              "      <th></th>\n",
              "      <th></th>\n",
              "      <th></th>\n",
              "      <th></th>\n",
              "      <th></th>\n",
              "      <th></th>\n",
              "      <th></th>\n",
              "      <th></th>\n",
              "    </tr>\n",
              "  </thead>\n",
              "  <tbody>\n",
              "    <tr>\n",
              "      <th>1930</th>\n",
              "      <td>13 Jul 1930 - 15:00</td>\n",
              "      <td>Group 1</td>\n",
              "      <td>Pocitos</td>\n",
              "      <td>Montevideo</td>\n",
              "      <td>France</td>\n",
              "      <td>4</td>\n",
              "      <td>1</td>\n",
              "      <td>Mexico</td>\n",
              "      <td></td>\n",
              "      <td>4444.0</td>\n",
              "      <td>3</td>\n",
              "      <td>0</td>\n",
              "      <td>LOMBARDI Domingo (URU)</td>\n",
              "      <td>CRISTOPHE Henry (BEL)</td>\n",
              "      <td>REGO Gilberto (BRA)</td>\n",
              "      <td>201</td>\n",
              "      <td>1096</td>\n",
              "      <td>FRA</td>\n",
              "      <td>MEX</td>\n",
              "    </tr>\n",
              "    <tr>\n",
              "      <th>1930</th>\n",
              "      <td>13 Jul 1930 - 15:00</td>\n",
              "      <td>Group 4</td>\n",
              "      <td>Parque Central</td>\n",
              "      <td>Montevideo</td>\n",
              "      <td>USA</td>\n",
              "      <td>3</td>\n",
              "      <td>0</td>\n",
              "      <td>Belgium</td>\n",
              "      <td></td>\n",
              "      <td>18346.0</td>\n",
              "      <td>2</td>\n",
              "      <td>0</td>\n",
              "      <td>MACIAS Jose (ARG)</td>\n",
              "      <td>MATEUCCI Francisco (URU)</td>\n",
              "      <td>WARNKEN Alberto (CHI)</td>\n",
              "      <td>201</td>\n",
              "      <td>1090</td>\n",
              "      <td>USA</td>\n",
              "      <td>BEL</td>\n",
              "    </tr>\n",
              "  </tbody>\n",
              "</table>\n",
              "</div>"
            ],
            "text/plain": [
              "                  Datetime    Stage  ... Home_Team_Initials Away_Team_Initials\n",
              "Year                                 ...                                      \n",
              "1930  13 Jul 1930 - 15:00   Group 1  ...                FRA                MEX\n",
              "1930  13 Jul 1930 - 15:00   Group 4  ...                USA                BEL\n",
              "\n",
              "[2 rows x 19 columns]"
            ]
          },
          "metadata": {
            "tags": []
          },
          "execution_count": 5
        }
      ]
    },
    {
      "cell_type": "code",
      "metadata": {
        "id": "ImCEaG9Xj1Uw",
        "colab": {
          "base_uri": "https://localhost:8080/"
        },
        "outputId": "2f127b9e-fb3a-4cb7-95b4-76bd4d227513"
      },
      "source": [
        "WorldCup[\"City\"].value_counts()"
      ],
      "execution_count": null,
      "outputs": [
        {
          "output_type": "execute_result",
          "data": {
            "text/plain": [
              "Mexico City        23\n",
              "Montevideo         18\n",
              "Rio De Janeiro     18\n",
              "Guadalajara        17\n",
              "Johannesburg       15\n",
              "                   ..\n",
              "Le Havre            1\n",
              "Lille               1\n",
              "Reims               1\n",
              "Strasbourg          1\n",
              "Trieste             1\n",
              "Name: City, Length: 151, dtype: int64"
            ]
          },
          "metadata": {},
          "execution_count": 45
        }
      ]
    },
    {
      "cell_type": "code",
      "metadata": {
        "id": "g4v9YS_Uh7BY",
        "colab": {
          "base_uri": "https://localhost:8080/",
          "height": 151
        },
        "outputId": "6d316620-eb52-4fd0-e216-37525d3496ac"
      },
      "source": [
        "%%sql\n",
        "SELECT * FROM WorldCup \n",
        "WHERE City=\"Montevideo \" AND Stage=\"Group 1\" LIMIT 1;"
      ],
      "execution_count": null,
      "outputs": [
        {
          "output_type": "stream",
          "name": "stdout",
          "text": [
            " * sqlite://\n",
            "Done.\n"
          ]
        },
        {
          "output_type": "execute_result",
          "data": {
            "text/html": [
              "<table>\n",
              "    <thead>\n",
              "        <tr>\n",
              "            <th>Year</th>\n",
              "            <th>Datetime</th>\n",
              "            <th>Stage</th>\n",
              "            <th>Stadium</th>\n",
              "            <th>City</th>\n",
              "            <th>Home_Team_Name</th>\n",
              "            <th>Home_Team_Goals</th>\n",
              "            <th>Away_Team_Goals</th>\n",
              "            <th>Away_Team_Name</th>\n",
              "            <th>Win_conditions</th>\n",
              "            <th>Attendance</th>\n",
              "            <th>Halftime_Home_Goals</th>\n",
              "            <th>Halftime_Away_Goals</th>\n",
              "            <th>Referee</th>\n",
              "            <th>Assistant1</th>\n",
              "            <th>Assistant2</th>\n",
              "            <th>RoundID</th>\n",
              "            <th>MatchID</th>\n",
              "            <th>Home_Team_Initials</th>\n",
              "            <th>Away_Team_Initials</th>\n",
              "        </tr>\n",
              "    </thead>\n",
              "    <tbody>\n",
              "        <tr>\n",
              "            <td>1930</td>\n",
              "            <td>13 Jul 1930 - 15:00 </td>\n",
              "            <td>Group 1</td>\n",
              "            <td>Pocitos</td>\n",
              "            <td>Montevideo </td>\n",
              "            <td>France</td>\n",
              "            <td>4</td>\n",
              "            <td>1</td>\n",
              "            <td>Mexico</td>\n",
              "            <td> </td>\n",
              "            <td>4444.0</td>\n",
              "            <td>3</td>\n",
              "            <td>0</td>\n",
              "            <td>LOMBARDI Domingo (URU)</td>\n",
              "            <td>CRISTOPHE Henry (BEL)</td>\n",
              "            <td>REGO Gilberto (BRA)</td>\n",
              "            <td>201</td>\n",
              "            <td>1096</td>\n",
              "            <td>FRA</td>\n",
              "            <td>MEX</td>\n",
              "        </tr>\n",
              "    </tbody>\n",
              "</table>"
            ],
            "text/plain": [
              "[(1930, '13 Jul 1930 - 15:00 ', 'Group 1', 'Pocitos', 'Montevideo ', 'France', 4, 1, 'Mexico', ' ', 4444.0, 3, 0, 'LOMBARDI Domingo (URU)', 'CRISTOPHE Henry (BEL)', 'REGO Gilberto (BRA)', 201, 1096, 'FRA', 'MEX')]"
            ]
          },
          "metadata": {},
          "execution_count": 43
        }
      ]
    },
    {
      "cell_type": "code",
      "metadata": {
        "id": "RDJ_njOP185K",
        "colab": {
          "base_uri": "https://localhost:8080/",
          "height": 284
        },
        "outputId": "dd2a2394-2269-4dfa-dd85-4a7be6cc74b9"
      },
      "source": [
        "%%sql\n",
        "SELECT * FROM Interpol LIMIT 10;"
      ],
      "execution_count": null,
      "outputs": [
        {
          "output_type": "stream",
          "text": [
            " * sqlite://\n",
            "Done.\n"
          ],
          "name": "stdout"
        },
        {
          "output_type": "execute_result",
          "data": {
            "text/html": [
              "<table>\n",
              "    <tr>\n",
              "        <th>Country</th>\n",
              "        <th>National Fugitives</th>\n",
              "        <th>Wanted Fugitives</th>\n",
              "        <th>Possible Hosted Fugitives / Captured Fugitives</th>\n",
              "        <th>Region</th>\n",
              "        <th>Flag</th>\n",
              "    </tr>\n",
              "    <tr>\n",
              "        <td>Albania</td>\n",
              "        <td>3</td>\n",
              "        <td>3</td>\n",
              "        <td>0</td>\n",
              "        <td>Europe</td>\n",
              "        <td>http://www.crwflags.com/fotw/images/a/al.gif</td>\n",
              "    </tr>\n",
              "    <tr>\n",
              "        <td>Angola</td>\n",
              "        <td>0</td>\n",
              "        <td>0</td>\n",
              "        <td>1</td>\n",
              "        <td>Northern Africa</td>\n",
              "        <td>http://www.crwflags.com/fotw/images/a/ao.gif</td>\n",
              "    </tr>\n",
              "    <tr>\n",
              "        <td>Argentina</td>\n",
              "        <td>2</td>\n",
              "        <td>2</td>\n",
              "        <td>1</td>\n",
              "        <td>South America</td>\n",
              "        <td>http://www.crwflags.com/fotw/images/a/ar.gif</td>\n",
              "    </tr>\n",
              "    <tr>\n",
              "        <td>Australia</td>\n",
              "        <td>1</td>\n",
              "        <td>1</td>\n",
              "        <td>2</td>\n",
              "        <td>Oceania</td>\n",
              "        <td>http://www.crwflags.com/fotw/images/a/au.gif</td>\n",
              "    </tr>\n",
              "    <tr>\n",
              "        <td>Austria</td>\n",
              "        <td>1</td>\n",
              "        <td>1</td>\n",
              "        <td>0</td>\n",
              "        <td>Europe</td>\n",
              "        <td>http://www.crwflags.com/fotw/images/a/at.gif</td>\n",
              "    </tr>\n",
              "    <tr>\n",
              "        <td>Bangladesh</td>\n",
              "        <td>2</td>\n",
              "        <td>1</td>\n",
              "        <td>1</td>\n",
              "        <td>Asia</td>\n",
              "        <td>http://www.crwflags.com/fotw/images/b/bd.gif</td>\n",
              "    </tr>\n",
              "    <tr>\n",
              "        <td>Belarus</td>\n",
              "        <td>1</td>\n",
              "        <td>1</td>\n",
              "        <td>0</td>\n",
              "        <td>Europe</td>\n",
              "        <td>http://www.crwflags.com/fotw/images/b/by.gif</td>\n",
              "    </tr>\n",
              "    <tr>\n",
              "        <td>Belgium</td>\n",
              "        <td>0</td>\n",
              "        <td>2</td>\n",
              "        <td>0</td>\n",
              "        <td>Europe</td>\n",
              "        <td>http://www.crwflags.com/fotw/images/b/be.gif</td>\n",
              "    </tr>\n",
              "    <tr>\n",
              "        <td>Belize</td>\n",
              "        <td>1</td>\n",
              "        <td>1</td>\n",
              "        <td>0</td>\n",
              "        <td>Central America</td>\n",
              "        <td>http://www.crwflags.com/fotw/images/b/bz.gif</td>\n",
              "    </tr>\n",
              "    <tr>\n",
              "        <td>Bolivia</td>\n",
              "        <td>0</td>\n",
              "        <td>0</td>\n",
              "        <td>2</td>\n",
              "        <td>South America</td>\n",
              "        <td>http://www.crwflags.com/fotw/images/b/bo.gif</td>\n",
              "    </tr>\n",
              "</table>"
            ],
            "text/plain": [
              "[('Albania', 3, 3, 0, 'Europe', 'http://www.crwflags.com/fotw/images/a/al.gif'),\n",
              " ('Angola', 0, 0, 1, 'Northern Africa', 'http://www.crwflags.com/fotw/images/a/ao.gif'),\n",
              " ('Argentina', 2, 2, 1, 'South America', 'http://www.crwflags.com/fotw/images/a/ar.gif'),\n",
              " ('Australia', 1, 1, 2, 'Oceania', 'http://www.crwflags.com/fotw/images/a/au.gif'),\n",
              " ('Austria', 1, 1, 0, 'Europe', 'http://www.crwflags.com/fotw/images/a/at.gif'),\n",
              " ('Bangladesh', 2, 1, 1, 'Asia', 'http://www.crwflags.com/fotw/images/b/bd.gif'),\n",
              " ('Belarus', 1, 1, 0, 'Europe', 'http://www.crwflags.com/fotw/images/b/by.gif'),\n",
              " ('Belgium', 0, 2, 0, 'Europe', 'http://www.crwflags.com/fotw/images/b/be.gif'),\n",
              " ('Belize', 1, 1, 0, 'Central America', 'http://www.crwflags.com/fotw/images/b/bz.gif'),\n",
              " ('Bolivia', 0, 0, 2, 'South America', 'http://www.crwflags.com/fotw/images/b/bo.gif')]"
            ]
          },
          "metadata": {
            "tags": []
          },
          "execution_count": 14
        }
      ]
    },
    {
      "cell_type": "code",
      "metadata": {
        "id": "BqrUzVqa2e72",
        "colab": {
          "base_uri": "https://localhost:8080/"
        },
        "outputId": "03b63915-059f-43bf-ae92-0123ec0177c6"
      },
      "source": [
        "# SELECT Country FROM Interpol LIMIT 10;\n",
        "Interpol.columns.value_counts()"
      ],
      "execution_count": null,
      "outputs": [
        {
          "output_type": "execute_result",
          "data": {
            "text/plain": [
              "Region                                            1\n",
              "National Fugitives                                1\n",
              "Possible Hosted Fugitives / Captured Fugitives    1\n",
              "Wanted Fugitives                                  1\n",
              "Flag                                              1\n",
              "dtype: int64"
            ]
          },
          "metadata": {},
          "execution_count": 48
        }
      ]
    },
    {
      "cell_type": "markdown",
      "metadata": {
        "id": "flPFAAxGxRjP"
      },
      "source": [
        "## 1.5 Orderby"
      ]
    },
    {
      "cell_type": "code",
      "metadata": {
        "id": "P9-AxtmsypmA"
      },
      "source": [
        "# Example 1\n",
        "# Using the Interpol dataset, let's get all our records ordering \n",
        "# them by the region in ascending order\n",
        "#\n",
        "%%sql\n",
        "SELECT * FROM Interpol\n",
        "ORDER BY Region ASC;"
      ],
      "execution_count": null,
      "outputs": []
    },
    {
      "cell_type": "code",
      "metadata": {
        "id": "ItZqYP8pypec"
      },
      "source": [
        "# Example 2\n",
        "# We can do the same as in example 1 but now having the records in descending order \n",
        "# as shown below\n",
        "#\n",
        "%%sql\n",
        "SELECT * FROM Interpol\n",
        "ORDER BY Country DESC;"
      ],
      "execution_count": null,
      "outputs": []
    },
    {
      "cell_type": "code",
      "metadata": {
        "id": "wUZJ_JEbypVk",
        "colab": {
          "base_uri": "https://localhost:8080/",
          "height": 428
        },
        "outputId": "7bb3f1b1-427d-40dd-a38f-ae0b25777127"
      },
      "source": [
        "# Example 3 \n",
        "# Using the Worldcup dataset, we can select 5 World Cup Group 1 matches played \n",
        "# after 1950 and having them ordered by city in ascending order as shown below\n",
        "#\n",
        "%%sql\n",
        "SELECT * FROM WorldCup\n",
        "WHERE Stage='Group 1' AND Year > 1950\n",
        "ORDER BY City ASC\n",
        "LIMIT 5;"
      ],
      "execution_count": null,
      "outputs": [
        {
          "output_type": "stream",
          "name": "stdout",
          "text": [
            " * sqlite://\n",
            "Done.\n"
          ]
        },
        {
          "output_type": "execute_result",
          "data": {
            "text/html": [
              "<table>\n",
              "    <thead>\n",
              "        <tr>\n",
              "            <th>Year</th>\n",
              "            <th>Datetime</th>\n",
              "            <th>Stage</th>\n",
              "            <th>Stadium</th>\n",
              "            <th>City</th>\n",
              "            <th>Home_Team_Name</th>\n",
              "            <th>Home_Team_Goals</th>\n",
              "            <th>Away_Team_Goals</th>\n",
              "            <th>Away_Team_Name</th>\n",
              "            <th>Win_conditions</th>\n",
              "            <th>Attendance</th>\n",
              "            <th>Halftime_Home_Goals</th>\n",
              "            <th>Halftime_Away_Goals</th>\n",
              "            <th>Referee</th>\n",
              "            <th>Assistant1</th>\n",
              "            <th>Assistant2</th>\n",
              "            <th>RoundID</th>\n",
              "            <th>MatchID</th>\n",
              "            <th>Home_Team_Initials</th>\n",
              "            <th>Away_Team_Initials</th>\n",
              "        </tr>\n",
              "    </thead>\n",
              "    <tbody>\n",
              "        <tr>\n",
              "            <td>1962</td>\n",
              "            <td>30 May 1962 - 15:00 </td>\n",
              "            <td>Group 1</td>\n",
              "            <td>Carlos Dittborn</td>\n",
              "            <td>Arica </td>\n",
              "            <td>Uruguay</td>\n",
              "            <td>2</td>\n",
              "            <td>1</td>\n",
              "            <td>Colombia</td>\n",
              "            <td> </td>\n",
              "            <td>7908.0</td>\n",
              "            <td>0</td>\n",
              "            <td>1</td>\n",
              "            <td>DOROGI Andor (HUN)</td>\n",
              "            <td>ETZEL FILHO Joao (BRA)</td>\n",
              "            <td>GALBA Karol (TCH)</td>\n",
              "            <td>231</td>\n",
              "            <td>1479</td>\n",
              "            <td>URU</td>\n",
              "            <td>COL</td>\n",
              "        </tr>\n",
              "        <tr>\n",
              "            <td>1962</td>\n",
              "            <td>31 May 1962 - 15:00 </td>\n",
              "            <td>Group 1</td>\n",
              "            <td>Carlos Dittborn</td>\n",
              "            <td>Arica </td>\n",
              "            <td>Soviet Union</td>\n",
              "            <td>2</td>\n",
              "            <td>0</td>\n",
              "            <td>Yugoslavia</td>\n",
              "            <td> </td>\n",
              "            <td>9622.0</td>\n",
              "            <td>0</td>\n",
              "            <td>0</td>\n",
              "            <td>DUSCH Albert (GER)</td>\n",
              "            <td>ETZEL FILHO Joao (BRA)</td>\n",
              "            <td>ROBLES Carlos (CHI)</td>\n",
              "            <td>231</td>\n",
              "            <td>1563</td>\n",
              "            <td>URS</td>\n",
              "            <td>YUG</td>\n",
              "        </tr>\n",
              "        <tr>\n",
              "            <td>1962</td>\n",
              "            <td>02 Jun 1962 - 15:00 </td>\n",
              "            <td>Group 1</td>\n",
              "            <td>Carlos Dittborn</td>\n",
              "            <td>Arica </td>\n",
              "            <td>Yugoslavia</td>\n",
              "            <td>3</td>\n",
              "            <td>1</td>\n",
              "            <td>Uruguay</td>\n",
              "            <td> </td>\n",
              "            <td>8829.0</td>\n",
              "            <td>2</td>\n",
              "            <td>1</td>\n",
              "            <td>GALBA Karol (TCH)</td>\n",
              "            <td>DUSCH Albert (GER)</td>\n",
              "            <td>JONNI Cesare (ITA)</td>\n",
              "            <td>231</td>\n",
              "            <td>1564</td>\n",
              "            <td>YUG</td>\n",
              "            <td>URU</td>\n",
              "        </tr>\n",
              "        <tr>\n",
              "            <td>1962</td>\n",
              "            <td>03 Jun 1962 - 15:00 </td>\n",
              "            <td>Group 1</td>\n",
              "            <td>Carlos Dittborn</td>\n",
              "            <td>Arica </td>\n",
              "            <td>Soviet Union</td>\n",
              "            <td>4</td>\n",
              "            <td>4</td>\n",
              "            <td>Colombia</td>\n",
              "            <td> </td>\n",
              "            <td>8040.0</td>\n",
              "            <td>3</td>\n",
              "            <td>1</td>\n",
              "            <td>ETZEL FILHO Joao (BRA)</td>\n",
              "            <td>DOROGI Andor (HUN)</td>\n",
              "            <td>ROBLES Carlos (CHI)</td>\n",
              "            <td>231</td>\n",
              "            <td>1478</td>\n",
              "            <td>URS</td>\n",
              "            <td>COL</td>\n",
              "        </tr>\n",
              "        <tr>\n",
              "            <td>1962</td>\n",
              "            <td>06 Jun 1962 - 15:00 </td>\n",
              "            <td>Group 1</td>\n",
              "            <td>Carlos Dittborn</td>\n",
              "            <td>Arica </td>\n",
              "            <td>Soviet Union</td>\n",
              "            <td>2</td>\n",
              "            <td>1</td>\n",
              "            <td>Uruguay</td>\n",
              "            <td> </td>\n",
              "            <td>9973.0</td>\n",
              "            <td>1</td>\n",
              "            <td>0</td>\n",
              "            <td>JONNI Cesare (ITA)</td>\n",
              "            <td>DOROGI Andor (HUN)</td>\n",
              "            <td>DUSCH Albert (GER)</td>\n",
              "            <td>231</td>\n",
              "            <td>1562</td>\n",
              "            <td>URS</td>\n",
              "            <td>URU</td>\n",
              "        </tr>\n",
              "    </tbody>\n",
              "</table>"
            ],
            "text/plain": [
              "[(1962, '30 May 1962 - 15:00 ', 'Group 1', 'Carlos Dittborn', 'Arica ', 'Uruguay', 2, 1, 'Colombia', ' ', 7908.0, 0, 1, 'DOROGI Andor (HUN)', 'ETZEL FILHO Joao (BRA)', 'GALBA Karol (TCH)', 231, 1479, 'URU', 'COL'),\n",
              " (1962, '31 May 1962 - 15:00 ', 'Group 1', 'Carlos Dittborn', 'Arica ', 'Soviet Union', 2, 0, 'Yugoslavia', ' ', 9622.0, 0, 0, 'DUSCH Albert (GER)', 'ETZEL FILHO Joao (BRA)', 'ROBLES Carlos (CHI)', 231, 1563, 'URS', 'YUG'),\n",
              " (1962, '02 Jun 1962 - 15:00 ', 'Group 1', 'Carlos Dittborn', 'Arica ', 'Yugoslavia', 3, 1, 'Uruguay', ' ', 8829.0, 2, 1, 'GALBA Karol (TCH)', 'DUSCH Albert (GER)', 'JONNI Cesare (ITA)', 231, 1564, 'YUG', 'URU'),\n",
              " (1962, '03 Jun 1962 - 15:00 ', 'Group 1', 'Carlos Dittborn', 'Arica ', 'Soviet Union', 4, 4, 'Colombia', ' ', 8040.0, 3, 1, 'ETZEL FILHO Joao (BRA)', 'DOROGI Andor (HUN)', 'ROBLES Carlos (CHI)', 231, 1478, 'URS', 'COL'),\n",
              " (1962, '06 Jun 1962 - 15:00 ', 'Group 1', 'Carlos Dittborn', 'Arica ', 'Soviet Union', 2, 1, 'Uruguay', ' ', 9973.0, 1, 0, 'JONNI Cesare (ITA)', 'DOROGI Andor (HUN)', 'DUSCH Albert (GER)', 231, 1562, 'URS', 'URU')]"
            ]
          },
          "metadata": {},
          "execution_count": 51
        }
      ]
    },
    {
      "cell_type": "markdown",
      "metadata": {
        "id": "Ebo74ksiyxSt"
      },
      "source": [
        "### <font color=\"green\"> 1.5 Challenges</font>"
      ]
    },
    {
      "cell_type": "code",
      "metadata": {
        "id": "HDrz5mCmy04V"
      },
      "source": [
        "# Challenge 1\n",
        "# Using Interpol Dataset, select all the records and order them by National Fugitives in ascending order\n",
        "# \n",
        "%%sql\n",
        "SELECT * FROM Interpol\n",
        "ORDER BY \"National Fugitives\" ASC;"
      ],
      "execution_count": null,
      "outputs": []
    },
    {
      "cell_type": "code",
      "metadata": {
        "id": "SddX9QWUy2bq",
        "colab": {
          "base_uri": "https://localhost:8080/",
          "height": 207
        },
        "outputId": "48996b92-2859-4ddd-e65b-b0ef2b694e16"
      },
      "source": [
        "# Challenge 2\n",
        "# Using WorldCup Dataset, get the matches played in the Pocitos stadium and their attendance \n",
        "# later than 1950 and ordering them by attendance in descending order\n",
        "# \n",
        "%%sql\n",
        "SELECT * FROM WorldCup\n",
        "WHERE Stadium=\"Pocitos\" AND Year < 1950\n",
        "ORDER BY attendance DESC;\n"
      ],
      "execution_count": null,
      "outputs": [
        {
          "output_type": "stream",
          "name": "stdout",
          "text": [
            " * sqlite://\n",
            "Done.\n"
          ]
        },
        {
          "output_type": "execute_result",
          "data": {
            "text/html": [
              "<table>\n",
              "    <thead>\n",
              "        <tr>\n",
              "            <th>Year</th>\n",
              "            <th>Datetime</th>\n",
              "            <th>Stage</th>\n",
              "            <th>Stadium</th>\n",
              "            <th>City</th>\n",
              "            <th>Home_Team_Name</th>\n",
              "            <th>Home_Team_Goals</th>\n",
              "            <th>Away_Team_Goals</th>\n",
              "            <th>Away_Team_Name</th>\n",
              "            <th>Win_conditions</th>\n",
              "            <th>Attendance</th>\n",
              "            <th>Halftime_Home_Goals</th>\n",
              "            <th>Halftime_Away_Goals</th>\n",
              "            <th>Referee</th>\n",
              "            <th>Assistant1</th>\n",
              "            <th>Assistant2</th>\n",
              "            <th>RoundID</th>\n",
              "            <th>MatchID</th>\n",
              "            <th>Home_Team_Initials</th>\n",
              "            <th>Away_Team_Initials</th>\n",
              "        </tr>\n",
              "    </thead>\n",
              "    <tbody>\n",
              "        <tr>\n",
              "            <td>1930</td>\n",
              "            <td>13 Jul 1930 - 15:00 </td>\n",
              "            <td>Group 1</td>\n",
              "            <td>Pocitos</td>\n",
              "            <td>Montevideo </td>\n",
              "            <td>France</td>\n",
              "            <td>4</td>\n",
              "            <td>1</td>\n",
              "            <td>Mexico</td>\n",
              "            <td> </td>\n",
              "            <td>4444.0</td>\n",
              "            <td>3</td>\n",
              "            <td>0</td>\n",
              "            <td>LOMBARDI Domingo (URU)</td>\n",
              "            <td>CRISTOPHE Henry (BEL)</td>\n",
              "            <td>REGO Gilberto (BRA)</td>\n",
              "            <td>201</td>\n",
              "            <td>1096</td>\n",
              "            <td>FRA</td>\n",
              "            <td>MEX</td>\n",
              "        </tr>\n",
              "        <tr>\n",
              "            <td>1930</td>\n",
              "            <td>14 Jul 1930 - 14:50 </td>\n",
              "            <td>Group 3</td>\n",
              "            <td>Pocitos</td>\n",
              "            <td>Montevideo </td>\n",
              "            <td>Romania</td>\n",
              "            <td>3</td>\n",
              "            <td>1</td>\n",
              "            <td>Peru</td>\n",
              "            <td> </td>\n",
              "            <td>2549.0</td>\n",
              "            <td>1</td>\n",
              "            <td>0</td>\n",
              "            <td>WARNKEN Alberto (CHI)</td>\n",
              "            <td>LANGENUS Jean (BEL)</td>\n",
              "            <td>MATEUCCI Francisco (URU)</td>\n",
              "            <td>201</td>\n",
              "            <td>1098</td>\n",
              "            <td>ROU</td>\n",
              "            <td>PER</td>\n",
              "        </tr>\n",
              "    </tbody>\n",
              "</table>"
            ],
            "text/plain": [
              "[(1930, '13 Jul 1930 - 15:00 ', 'Group 1', 'Pocitos', 'Montevideo ', 'France', 4, 1, 'Mexico', ' ', 4444.0, 3, 0, 'LOMBARDI Domingo (URU)', 'CRISTOPHE Henry (BEL)', 'REGO Gilberto (BRA)', 201, 1096, 'FRA', 'MEX'),\n",
              " (1930, '14 Jul 1930 - 14:50 ', 'Group 3', 'Pocitos', 'Montevideo ', 'Romania', 3, 1, 'Peru', ' ', 2549.0, 1, 0, 'WARNKEN Alberto (CHI)', 'LANGENUS Jean (BEL)', 'MATEUCCI Francisco (URU)', 201, 1098, 'ROU', 'PER')]"
            ]
          },
          "metadata": {},
          "execution_count": 54
        }
      ]
    },
    {
      "cell_type": "code",
      "metadata": {
        "id": "YDzDazViy3jB"
      },
      "source": [
        "# Challenge 3\n",
        "# Get the World Cup Matches played in France after 1970 ordered by years in descending order \n",
        "#\n",
        "%%sql\n",
        "SELECT * FROM WorldCup\n",
        "WHERE Home_Team_Name=\"France\" AND Year > 1970\n",
        "ORDER BY Year DESC;"
      ],
      "execution_count": null,
      "outputs": []
    },
    {
      "cell_type": "markdown",
      "metadata": {
        "id": "kuQDOhnZxXSS"
      },
      "source": [
        "## 1.6 Where"
      ]
    },
    {
      "cell_type": "code",
      "metadata": {
        "id": "JxMw5TSJzHaO"
      },
      "source": [
        "# Example 1\n",
        "# From our Interpol dataset, let's find out which Countries have had three or more than three National Fugitives.\n",
        "#\n",
        "%%sql\n",
        "SELECT * FROM Interpol\n",
        "WHERE Region = 'Europe';"
      ],
      "execution_count": null,
      "outputs": []
    },
    {
      "cell_type": "code",
      "metadata": {
        "id": "GwN_mf1ezHUg"
      },
      "source": [
        "# Example 2\n",
        "# From our Interpol dataset, let's get the European countries and the no of Wanted fugitives they have\n",
        "#\n",
        "%%sql\n",
        "SELECT Country, \"Wanted Fugitives\" FROM Interpol\n",
        "WHERE Region = 'Europe';"
      ],
      "execution_count": null,
      "outputs": []
    },
    {
      "cell_type": "code",
      "metadata": {
        "id": "FtFa2nvnzHJh",
        "colab": {
          "base_uri": "https://localhost:8080/",
          "height": 225
        },
        "outputId": "a26f9623-96dc-4b72-bb23-25e2516b0366"
      },
      "source": [
        "# Example 3\n",
        "# From our WorldCup dataset, Let us select the home teams, away teams \n",
        "# and the respective no. of home team goals, no. of away team goals\n",
        "# for the years after 1950\n",
        "#\n",
        "%%sql\n",
        "SELECT Year, Stage, Home_Team_Name, Home_Team_Goals, Away_Team_Name, Away_Team_Goals FROM WorldCup\n",
        "WHERE Year > 1930\n",
        "LIMIT 7;"
      ],
      "execution_count": null,
      "outputs": [
        {
          "output_type": "stream",
          "name": "stdout",
          "text": [
            " * sqlite://\n",
            "Done.\n"
          ]
        },
        {
          "output_type": "execute_result",
          "data": {
            "text/html": [
              "<table>\n",
              "    <thead>\n",
              "        <tr>\n",
              "            <th>Year</th>\n",
              "            <th>Stage</th>\n",
              "            <th>Home_Team_Name</th>\n",
              "            <th>Home_Team_Goals</th>\n",
              "            <th>Away_Team_Name</th>\n",
              "            <th>Away_Team_Goals</th>\n",
              "        </tr>\n",
              "    </thead>\n",
              "    <tbody>\n",
              "        <tr>\n",
              "            <td>1934</td>\n",
              "            <td>Preliminary round</td>\n",
              "            <td>Austria</td>\n",
              "            <td>3</td>\n",
              "            <td>France</td>\n",
              "            <td>2</td>\n",
              "        </tr>\n",
              "        <tr>\n",
              "            <td>1934</td>\n",
              "            <td>Preliminary round</td>\n",
              "            <td>Hungary</td>\n",
              "            <td>4</td>\n",
              "            <td>Egypt</td>\n",
              "            <td>2</td>\n",
              "        </tr>\n",
              "        <tr>\n",
              "            <td>1934</td>\n",
              "            <td>Preliminary round</td>\n",
              "            <td>Switzerland</td>\n",
              "            <td>3</td>\n",
              "            <td>Netherlands</td>\n",
              "            <td>2</td>\n",
              "        </tr>\n",
              "        <tr>\n",
              "            <td>1934</td>\n",
              "            <td>Preliminary round</td>\n",
              "            <td>Sweden</td>\n",
              "            <td>3</td>\n",
              "            <td>Argentina</td>\n",
              "            <td>2</td>\n",
              "        </tr>\n",
              "        <tr>\n",
              "            <td>1934</td>\n",
              "            <td>Preliminary round</td>\n",
              "            <td>Germany</td>\n",
              "            <td>5</td>\n",
              "            <td>Belgium</td>\n",
              "            <td>2</td>\n",
              "        </tr>\n",
              "        <tr>\n",
              "            <td>1934</td>\n",
              "            <td>Preliminary round</td>\n",
              "            <td>Spain</td>\n",
              "            <td>3</td>\n",
              "            <td>Brazil</td>\n",
              "            <td>1</td>\n",
              "        </tr>\n",
              "        <tr>\n",
              "            <td>1934</td>\n",
              "            <td>Preliminary round</td>\n",
              "            <td>Italy</td>\n",
              "            <td>7</td>\n",
              "            <td>USA</td>\n",
              "            <td>1</td>\n",
              "        </tr>\n",
              "    </tbody>\n",
              "</table>"
            ],
            "text/plain": [
              "[(1934, 'Preliminary round', 'Austria', 3, 'France', 2),\n",
              " (1934, 'Preliminary round', 'Hungary', 4, 'Egypt', 2),\n",
              " (1934, 'Preliminary round', 'Switzerland', 3, 'Netherlands', 2),\n",
              " (1934, 'Preliminary round', 'Sweden', 3, 'Argentina', 2),\n",
              " (1934, 'Preliminary round', 'Germany', 5, 'Belgium', 2),\n",
              " (1934, 'Preliminary round', 'Spain', 3, 'Brazil', 1),\n",
              " (1934, 'Preliminary round', 'Italy', 7, 'USA', 1)]"
            ]
          },
          "metadata": {},
          "execution_count": 60
        }
      ]
    },
    {
      "cell_type": "markdown",
      "metadata": {
        "id": "SD-wxiNhzN8h"
      },
      "source": [
        "### <font color=\"green\"> 1.6 Challenges</font>"
      ]
    },
    {
      "cell_type": "code",
      "metadata": {
        "id": "S9SXcemDzSMd",
        "colab": {
          "base_uri": "https://localhost:8080/",
          "height": 96
        },
        "outputId": "2ba95b34-465e-4e85-86e2-3d652511544a"
      },
      "source": [
        "# Challenge 1\n",
        "# From our Interpol dataset, find out which  country had the most Captured Fugitives \n",
        "#\n",
        "%%sql\n",
        "SELECT Country,MAX(\"Captured Fugitives\") as Captured_Fugitives FROM Interpol\n"
      ],
      "execution_count": null,
      "outputs": [
        {
          "output_type": "stream",
          "name": "stdout",
          "text": [
            " * sqlite://\n",
            "Done.\n"
          ]
        },
        {
          "output_type": "execute_result",
          "data": {
            "text/html": [
              "<table>\n",
              "    <thead>\n",
              "        <tr>\n",
              "            <th>Country</th>\n",
              "            <th>Captured_Fugitives</th>\n",
              "        </tr>\n",
              "    </thead>\n",
              "    <tbody>\n",
              "        <tr>\n",
              "            <td>Albania</td>\n",
              "            <td>Captured Fugitives</td>\n",
              "        </tr>\n",
              "    </tbody>\n",
              "</table>"
            ],
            "text/plain": [
              "[('Albania', 'Captured Fugitives')]"
            ]
          },
          "metadata": {},
          "execution_count": 75
        }
      ]
    },
    {
      "cell_type": "code",
      "metadata": {
        "id": "8vTPzw0OzSDX"
      },
      "source": [
        "# Challenge 2\n",
        "# Using our Interpol dataset, get the european and asian countries;\n",
        "#\n",
        "%%sql\n",
        "SELECT * FROM Interpol\n",
        "WHERE  Region = 'Asia' OR Region ='Europe';"
      ],
      "execution_count": null,
      "outputs": []
    },
    {
      "cell_type": "code",
      "metadata": {
        "id": "Z4vVPXxHzR3D",
        "colab": {
          "base_uri": "https://localhost:8080/",
          "height": 96
        },
        "outputId": "485baf93-ca09-42b6-8fd6-3cf500ab60ee"
      },
      "source": [
        "# Challenge 3 \n",
        "# From our Interpol dataset, find out which top countries had the least National fugities\n",
        "#\n",
        "%%sql\n",
        "SELECT Country,MIN(\"National Fugitives\") as National_Fugitives  FROM Interpol\n",
        "\n"
      ],
      "execution_count": null,
      "outputs": [
        {
          "output_type": "stream",
          "name": "stdout",
          "text": [
            " * sqlite://\n",
            "Done.\n"
          ]
        },
        {
          "output_type": "execute_result",
          "data": {
            "text/html": [
              "<table>\n",
              "    <thead>\n",
              "        <tr>\n",
              "            <th>Country</th>\n",
              "            <th>National_Fugitives</th>\n",
              "        </tr>\n",
              "    </thead>\n",
              "    <tbody>\n",
              "        <tr>\n",
              "            <td>Angola</td>\n",
              "            <td>0</td>\n",
              "        </tr>\n",
              "    </tbody>\n",
              "</table>"
            ],
            "text/plain": [
              "[('Angola', 0)]"
            ]
          },
          "metadata": {},
          "execution_count": 74
        }
      ]
    },
    {
      "cell_type": "markdown",
      "metadata": {
        "id": "_HPMnfsqxgWv"
      },
      "source": [
        "## 1.7 Between "
      ]
    },
    {
      "cell_type": "code",
      "metadata": {
        "id": "-Y121Fc_zjTu"
      },
      "source": [
        "# Example 1\n",
        "# Select the countries with national fugitives between 0 and 3 ordered by nationnal fugitives ascending order\n",
        "#\n",
        "%%sql\n",
        "SELECT Country, \"National Fugitives\" FROM Interpol\n",
        "WHERE \"National Fugitives\" BETWEEN 0 AND 3 ORDER BY \"National Fugitives\" ASC;"
      ],
      "execution_count": null,
      "outputs": []
    },
    {
      "cell_type": "code",
      "metadata": {
        "id": "Rl1dSSYzzjLw"
      },
      "source": [
        "# Example 2\n",
        "# Select the countries with national fugitives not between 0 and 4 ordered by nationnal fugitives ascending order\n",
        "#\n",
        "%%sql\n",
        "SELECT Country, \"National Fugitives\" FROM Interpol\n",
        "WHERE \"National Fugitives\" NOT BETWEEN 0 AND 4 ORDER BY \"National Fugitives\" ASC;"
      ],
      "execution_count": null,
      "outputs": []
    },
    {
      "cell_type": "code",
      "metadata": {
        "id": "8KedUOf4zjDs"
      },
      "source": [
        "# Example 3\n",
        "# Select any 5 matches played after 1950 which did not have the home team as Germany\n",
        "#\n",
        "%%sql\n",
        "SELECT * FROM WorldCup\n",
        "WHERE NOT \"Home Team Name\" = 'Germany' AND NOT Year < 1950\n",
        "LIMIT 5;"
      ],
      "execution_count": null,
      "outputs": []
    },
    {
      "cell_type": "markdown",
      "metadata": {
        "id": "hJ310W5zzdVQ"
      },
      "source": [
        "### <font color=\"green\"> 1.7 Challenges</font>"
      ]
    },
    {
      "cell_type": "code",
      "metadata": {
        "id": "yK5U8gQ6zoIM",
        "colab": {
          "base_uri": "https://localhost:8080/",
          "height": 246
        },
        "outputId": "6d99727b-fa46-42e4-fdec-c6a71b650fa2"
      },
      "source": [
        "# Challenge 1\n",
        "# From the Interpol dataset, get all asian countries with wanted fugitives between 0 and 2\n",
        "#\n",
        "%%sql\n",
        "SELECT Country, \"Wanted Fugitives\" FROM Interpol\n",
        "WHERE Region = \"Asia\" AND \"Wanted Fugitives\" BETWEEN 0 AND 2 ;"
      ],
      "execution_count": null,
      "outputs": [
        {
          "output_type": "stream",
          "name": "stdout",
          "text": [
            " * sqlite://\n",
            "Done.\n"
          ]
        },
        {
          "output_type": "execute_result",
          "data": {
            "text/html": [
              "<table>\n",
              "    <thead>\n",
              "        <tr>\n",
              "            <th>Country</th>\n",
              "            <th>Wanted Fugitives</th>\n",
              "        </tr>\n",
              "    </thead>\n",
              "    <tbody>\n",
              "        <tr>\n",
              "            <td>Bangladesh</td>\n",
              "            <td>1</td>\n",
              "        </tr>\n",
              "        <tr>\n",
              "            <td>Cambodia</td>\n",
              "            <td>0</td>\n",
              "        </tr>\n",
              "        <tr>\n",
              "            <td>Georgia, Asia</td>\n",
              "            <td>2</td>\n",
              "        </tr>\n",
              "        <tr>\n",
              "            <td>India</td>\n",
              "            <td>0</td>\n",
              "        </tr>\n",
              "        <tr>\n",
              "            <td>Indonesia</td>\n",
              "            <td>1</td>\n",
              "        </tr>\n",
              "        <tr>\n",
              "            <td>Iraq</td>\n",
              "            <td>0</td>\n",
              "        </tr>\n",
              "        <tr>\n",
              "            <td>Pakistan</td>\n",
              "            <td>0</td>\n",
              "        </tr>\n",
              "        <tr>\n",
              "            <td>Qatar</td>\n",
              "            <td>0</td>\n",
              "        </tr>\n",
              "    </tbody>\n",
              "</table>"
            ],
            "text/plain": [
              "[('Bangladesh', 1),\n",
              " ('Cambodia', 0),\n",
              " ('Georgia, Asia', 2),\n",
              " ('India', 0),\n",
              " ('Indonesia', 1),\n",
              " ('Iraq', 0),\n",
              " ('Pakistan', 0),\n",
              " ('Qatar', 0)]"
            ]
          },
          "metadata": {},
          "execution_count": 81
        }
      ]
    },
    {
      "cell_type": "code",
      "metadata": {
        "id": "rm5PecphzoAZ"
      },
      "source": [
        "# Challenge 2\n",
        "# From the World cup dataset, get all the matches that were played later than 1980 with an attendance less than 5000 \n",
        "# \n",
        "%%sql\n",
        "SELECT * FROM WorldCup\n",
        "WHERE Attendance >5000 AND  Year < 1980\n"
      ],
      "execution_count": null,
      "outputs": []
    },
    {
      "cell_type": "code",
      "metadata": {
        "id": "VcEWqciwzn0K"
      },
      "source": [
        "# Challenge 3 \n",
        "# Which matches were played between the year 1990 and 2000?\n",
        "# \n",
        "%%sql\n",
        "SELECT * FROM WorldCup\n",
        "WHERE   Year BETWEEN 1990 AND 2000"
      ],
      "execution_count": null,
      "outputs": []
    },
    {
      "cell_type": "markdown",
      "metadata": {
        "id": "45Pnf42Nxnkz"
      },
      "source": [
        "## 1.8 Distinct"
      ]
    },
    {
      "cell_type": "code",
      "metadata": {
        "id": "QuaneZrhz6Ts"
      },
      "source": [
        "# Example 1\n",
        "# Let's find out which stadiums have hosted world cup matches\n",
        "%%sql\n",
        "SELECT DISTINCT Stadium FROM WorldCup;"
      ],
      "execution_count": null,
      "outputs": []
    },
    {
      "cell_type": "code",
      "metadata": {
        "id": "wMiHIgS8z6MT"
      },
      "source": [
        "# Example 2\n",
        "# Let's find out which world cup cities have hosted world cup matches after 2000\n",
        "#\n",
        "%%sql\n",
        "SELECT DISTINCT City FROM WorldCup WHERE Year > 2000;"
      ],
      "execution_count": null,
      "outputs": []
    },
    {
      "cell_type": "markdown",
      "metadata": {
        "id": "2mNf3P6fz6qe"
      },
      "source": [
        "### <font color=\"green\"> 1.8 Challenges</font>"
      ]
    },
    {
      "cell_type": "code",
      "metadata": {
        "id": "vK4W0rDtz9xP",
        "colab": {
          "base_uri": "https://localhost:8080/",
          "height": 566
        },
        "outputId": "c3effe2b-ac26-4e87-b743-4cdc94f7a01a"
      },
      "source": [
        "# Challenge 1\n",
        "# Name the stages in the world cup and order them alphabetically by stage.\n",
        "# \n",
        "%%sql\n",
        "SELECT DISTINCT Stage FROM WorldCup ORDER BY Stage ASC;"
      ],
      "execution_count": null,
      "outputs": [
        {
          "output_type": "stream",
          "name": "stdout",
          "text": [
            " * sqlite://\n",
            "Done.\n"
          ]
        },
        {
          "output_type": "execute_result",
          "data": {
            "text/html": [
              "<table>\n",
              "    <thead>\n",
              "        <tr>\n",
              "            <th>Stage</th>\n",
              "        </tr>\n",
              "    </thead>\n",
              "    <tbody>\n",
              "        <tr>\n",
              "            <td>Final</td>\n",
              "        </tr>\n",
              "        <tr>\n",
              "            <td>First round</td>\n",
              "        </tr>\n",
              "        <tr>\n",
              "            <td>Group 1</td>\n",
              "        </tr>\n",
              "        <tr>\n",
              "            <td>Group 2</td>\n",
              "        </tr>\n",
              "        <tr>\n",
              "            <td>Group 3</td>\n",
              "        </tr>\n",
              "        <tr>\n",
              "            <td>Group 4</td>\n",
              "        </tr>\n",
              "        <tr>\n",
              "            <td>Group 5</td>\n",
              "        </tr>\n",
              "        <tr>\n",
              "            <td>Group 6</td>\n",
              "        </tr>\n",
              "        <tr>\n",
              "            <td>Group A</td>\n",
              "        </tr>\n",
              "        <tr>\n",
              "            <td>Group B</td>\n",
              "        </tr>\n",
              "        <tr>\n",
              "            <td>Group C</td>\n",
              "        </tr>\n",
              "        <tr>\n",
              "            <td>Group D</td>\n",
              "        </tr>\n",
              "        <tr>\n",
              "            <td>Group E</td>\n",
              "        </tr>\n",
              "        <tr>\n",
              "            <td>Group F</td>\n",
              "        </tr>\n",
              "        <tr>\n",
              "            <td>Group G</td>\n",
              "        </tr>\n",
              "        <tr>\n",
              "            <td>Group H</td>\n",
              "        </tr>\n",
              "        <tr>\n",
              "            <td>Match for third place</td>\n",
              "        </tr>\n",
              "        <tr>\n",
              "            <td>Play-off for third place</td>\n",
              "        </tr>\n",
              "        <tr>\n",
              "            <td>Preliminary round</td>\n",
              "        </tr>\n",
              "        <tr>\n",
              "            <td>Quarter-finals</td>\n",
              "        </tr>\n",
              "        <tr>\n",
              "            <td>Round of 16</td>\n",
              "        </tr>\n",
              "        <tr>\n",
              "            <td>Semi-finals</td>\n",
              "        </tr>\n",
              "        <tr>\n",
              "            <td>Third place</td>\n",
              "        </tr>\n",
              "    </tbody>\n",
              "</table>"
            ],
            "text/plain": [
              "[('Final',),\n",
              " ('First round',),\n",
              " ('Group 1',),\n",
              " ('Group 2',),\n",
              " ('Group 3',),\n",
              " ('Group 4',),\n",
              " ('Group 5',),\n",
              " ('Group 6',),\n",
              " ('Group A',),\n",
              " ('Group B',),\n",
              " ('Group C',),\n",
              " ('Group D',),\n",
              " ('Group E',),\n",
              " ('Group F',),\n",
              " ('Group G',),\n",
              " ('Group H',),\n",
              " ('Match for third place',),\n",
              " ('Play-off for third place',),\n",
              " ('Preliminary round',),\n",
              " ('Quarter-finals',),\n",
              " ('Round of 16',),\n",
              " ('Semi-finals',),\n",
              " ('Third place',)]"
            ]
          },
          "metadata": {},
          "execution_count": 86
        }
      ]
    },
    {
      "cell_type": "code",
      "metadata": {
        "id": "-VgClIuzz9ho"
      },
      "source": [
        "# Challenge 2\n",
        "# Which cities hosted the world cup between 1950 and 2000?\n",
        "#\n",
        "%%sql\n",
        "SELECT DISTINCT City FROM WorldCup WHERE Year BETWEEN 1950 AND 2000;"
      ],
      "execution_count": null,
      "outputs": []
    },
    {
      "cell_type": "code",
      "metadata": {
        "id": "9Mo8KbOoz8c2",
        "colab": {
          "base_uri": "https://localhost:8080/",
          "height": 502
        },
        "outputId": "b9ccb62a-1895-4b04-e38a-ac4cd67d6c5c"
      },
      "source": [
        "# Challenge 3\n",
        "# During which years was the world cup hosted in?\n",
        "#\n",
        "%%sql\n",
        "SELECT DISTINCT Year FROM WorldCup;"
      ],
      "execution_count": null,
      "outputs": [
        {
          "output_type": "stream",
          "name": "stdout",
          "text": [
            " * sqlite://\n",
            "Done.\n"
          ]
        },
        {
          "output_type": "execute_result",
          "data": {
            "text/html": [
              "<table>\n",
              "    <thead>\n",
              "        <tr>\n",
              "            <th>Year</th>\n",
              "        </tr>\n",
              "    </thead>\n",
              "    <tbody>\n",
              "        <tr>\n",
              "            <td>1930</td>\n",
              "        </tr>\n",
              "        <tr>\n",
              "            <td>1934</td>\n",
              "        </tr>\n",
              "        <tr>\n",
              "            <td>1938</td>\n",
              "        </tr>\n",
              "        <tr>\n",
              "            <td>1950</td>\n",
              "        </tr>\n",
              "        <tr>\n",
              "            <td>1954</td>\n",
              "        </tr>\n",
              "        <tr>\n",
              "            <td>1958</td>\n",
              "        </tr>\n",
              "        <tr>\n",
              "            <td>1962</td>\n",
              "        </tr>\n",
              "        <tr>\n",
              "            <td>1966</td>\n",
              "        </tr>\n",
              "        <tr>\n",
              "            <td>1970</td>\n",
              "        </tr>\n",
              "        <tr>\n",
              "            <td>1974</td>\n",
              "        </tr>\n",
              "        <tr>\n",
              "            <td>1978</td>\n",
              "        </tr>\n",
              "        <tr>\n",
              "            <td>1982</td>\n",
              "        </tr>\n",
              "        <tr>\n",
              "            <td>1986</td>\n",
              "        </tr>\n",
              "        <tr>\n",
              "            <td>1990</td>\n",
              "        </tr>\n",
              "        <tr>\n",
              "            <td>1994</td>\n",
              "        </tr>\n",
              "        <tr>\n",
              "            <td>1998</td>\n",
              "        </tr>\n",
              "        <tr>\n",
              "            <td>2002</td>\n",
              "        </tr>\n",
              "        <tr>\n",
              "            <td>2006</td>\n",
              "        </tr>\n",
              "        <tr>\n",
              "            <td>2010</td>\n",
              "        </tr>\n",
              "        <tr>\n",
              "            <td>2014</td>\n",
              "        </tr>\n",
              "    </tbody>\n",
              "</table>"
            ],
            "text/plain": [
              "[(1930,),\n",
              " (1934,),\n",
              " (1938,),\n",
              " (1950,),\n",
              " (1954,),\n",
              " (1958,),\n",
              " (1962,),\n",
              " (1966,),\n",
              " (1970,),\n",
              " (1974,),\n",
              " (1978,),\n",
              " (1982,),\n",
              " (1986,),\n",
              " (1990,),\n",
              " (1994,),\n",
              " (1998,),\n",
              " (2002,),\n",
              " (2006,),\n",
              " (2010,),\n",
              " (2014,)]"
            ]
          },
          "metadata": {},
          "execution_count": 88
        }
      ]
    },
    {
      "cell_type": "markdown",
      "metadata": {
        "id": "ZBHtfAOuxtWX"
      },
      "source": [
        "## 1.9 Count"
      ]
    },
    {
      "cell_type": "code",
      "metadata": {
        "id": "lf6o06zW0LTU"
      },
      "source": [
        "# Example 1\n",
        "# How many countries were listed in interpol's data? \n",
        "#\n",
        "%%sql\n",
        "SELECT COUNT(Country) FROM Interpol;"
      ],
      "execution_count": null,
      "outputs": []
    },
    {
      "cell_type": "code",
      "metadata": {
        "id": "98PmdA100LSE"
      },
      "source": [
        "# Example 2\n",
        "# How many times has Brazil played home during world cup matches?\n",
        "#\n",
        "%%sql\n",
        "SELECT COUNT(\"Home_Team_Name\") FROM WorldCup where Home_Team_Name = 'Brazil';"
      ],
      "execution_count": null,
      "outputs": []
    },
    {
      "cell_type": "code",
      "metadata": {
        "id": "E4BpjhuF0LFh"
      },
      "source": [
        "# Example 3\n",
        "# Find out the number of times that stadiums have hosted matches in the World Cup? \n",
        "# \n",
        "%%sql\n",
        "SELECT COUNT(Stadium)\n",
        "FROM WorldCup;"
      ],
      "execution_count": null,
      "outputs": []
    },
    {
      "cell_type": "markdown",
      "metadata": {
        "id": "urJSHr5a0QHF"
      },
      "source": [
        "### <font color=\"green\"> 1.9 Challenges</font>"
      ]
    },
    {
      "cell_type": "code",
      "metadata": {
        "id": "MRDj9E4B0fWe",
        "colab": {
          "base_uri": "https://localhost:8080/",
          "height": 96
        },
        "outputId": "9741c1b0-a7b5-41c9-e0ca-6830ae763000"
      },
      "source": [
        "# Challenge 1\n",
        "# Using Interpol Dataset, find out how many wanted fugitives there are in Northern Africa.\n",
        "# \n",
        "%%sql\n",
        "SELECT COUNT(\"Wanted Fugitives\") FROM Interpol WHERE Region = \"Northern Africa\";"
      ],
      "execution_count": null,
      "outputs": [
        {
          "output_type": "stream",
          "name": "stdout",
          "text": [
            " * sqlite://\n",
            "Done.\n"
          ]
        },
        {
          "output_type": "execute_result",
          "data": {
            "text/html": [
              "<table>\n",
              "    <thead>\n",
              "        <tr>\n",
              "            <th>COUNT(&quot;Wanted Fugitives&quot;)</th>\n",
              "        </tr>\n",
              "    </thead>\n",
              "    <tbody>\n",
              "        <tr>\n",
              "            <td>2</td>\n",
              "        </tr>\n",
              "    </tbody>\n",
              "</table>"
            ],
            "text/plain": [
              "[(2,)]"
            ]
          },
          "metadata": {},
          "execution_count": 89
        }
      ]
    },
    {
      "cell_type": "code",
      "metadata": {
        "id": "vtNJoQ7m0e0Q",
        "colab": {
          "base_uri": "https://localhost:8080/",
          "height": 96
        },
        "outputId": "7ef0f957-58f3-4ed5-9914-fadc7da025cc"
      },
      "source": [
        "# Challenge 2\n",
        "# Using WorldCup Dataset, find out how many Possible Hosted Fugitives / Captured Fugitives \n",
        "# there are in Europe and Northern Africa.\n",
        "# \n",
        "%%sql\n",
        "SELECT COUNT(\"Possible Hosted Fugitives / Captured Fugitives\") FROM WorldCup where Home_Team_Name = 'Northern Africa' AND Home_Team_Name = 'Brazil';"
      ],
      "execution_count": null,
      "outputs": [
        {
          "output_type": "stream",
          "name": "stdout",
          "text": [
            " * sqlite://\n",
            "Done.\n"
          ]
        },
        {
          "output_type": "execute_result",
          "data": {
            "text/html": [
              "<table>\n",
              "    <thead>\n",
              "        <tr>\n",
              "            <th>COUNT(&quot;Possible Hosted Fugitives / Captured Fugitives&quot;)</th>\n",
              "        </tr>\n",
              "    </thead>\n",
              "    <tbody>\n",
              "        <tr>\n",
              "            <td>0</td>\n",
              "        </tr>\n",
              "    </tbody>\n",
              "</table>"
            ],
            "text/plain": [
              "[(0,)]"
            ]
          },
          "metadata": {},
          "execution_count": 90
        }
      ]
    },
    {
      "cell_type": "code",
      "metadata": {
        "id": "QPMB6WLl0eil",
        "colab": {
          "base_uri": "https://localhost:8080/",
          "height": 96
        },
        "outputId": "54eb99ee-a52d-4b2a-9053-05e18a6e726f"
      },
      "source": [
        "# Challenge 3\n",
        "# Using WorldCup dataset, find out how many away teams were played where a team scored more than 3 goals.\n",
        "# \n",
        "%%sql\n",
        "SELECT COUNT(\"Home Team Goals\") FROM Interpol WHERE \"Home Team Goals\" <3;"
      ],
      "execution_count": null,
      "outputs": [
        {
          "output_type": "stream",
          "name": "stdout",
          "text": [
            " * sqlite://\n",
            "Done.\n"
          ]
        },
        {
          "output_type": "execute_result",
          "data": {
            "text/html": [
              "<table>\n",
              "    <thead>\n",
              "        <tr>\n",
              "            <th>COUNT(&quot;Home Team Goals&quot;)</th>\n",
              "        </tr>\n",
              "    </thead>\n",
              "    <tbody>\n",
              "        <tr>\n",
              "            <td>0</td>\n",
              "        </tr>\n",
              "    </tbody>\n",
              "</table>"
            ],
            "text/plain": [
              "[(0,)]"
            ]
          },
          "metadata": {},
          "execution_count": 94
        }
      ]
    },
    {
      "cell_type": "markdown",
      "metadata": {
        "id": "RHhkA_Ymxxv2"
      },
      "source": [
        "## 1.10 Groupby"
      ]
    },
    {
      "cell_type": "code",
      "metadata": {
        "id": "v_FSehRC0nKn"
      },
      "source": [
        "# Example 1\n",
        "# Which three stadiums have hosted the most world cup games?\n",
        "#\n",
        "%%sql\n",
        "SELECT Stadium, COUNT(Stadium)\n",
        "FROM WorldCup\n",
        "GROUP BY Stadium \n",
        "ORDER BY COUNT(Stadium) DESC LIMIT 3;"
      ],
      "execution_count": null,
      "outputs": []
    },
    {
      "cell_type": "code",
      "metadata": {
        "id": "8Wg9ppdr0m93"
      },
      "source": [
        "# Example 2\n",
        "# Which three stadiums have hosted the least world cup games?\n",
        "#\n",
        "%%sql\n",
        "SELECT City, COUNT(Stadium)\n",
        "FROM WorldCup\n",
        "GROUP BY Stadium \n",
        "ORDER BY COUNT(Stadium) ASC LIMIT 3;"
      ],
      "execution_count": null,
      "outputs": []
    },
    {
      "cell_type": "markdown",
      "metadata": {
        "id": "kXmE4FXm0otn"
      },
      "source": [
        "### <font color=\"green\"> 1.10 Challenges</font>"
      ]
    },
    {
      "cell_type": "code",
      "metadata": {
        "id": "WoXJYKgW1J85"
      },
      "source": [
        "# Challenge 1\n",
        "# What has been the largest no. of home goals scored by three home teams? \n",
        "# \n",
        "%%sql\n",
        "SELECT City, COUNT(Stadium)\n",
        "FROM WorldCup\n",
        "GROUP BY Stadium \n",
        "ORDER BY COUNT(Stadium) ASC LIMIT 3;"
      ],
      "execution_count": null,
      "outputs": []
    },
    {
      "cell_type": "code",
      "metadata": {
        "id": "og-hKLN21JzZ"
      },
      "source": [
        "# Challenge 2\n",
        "# Which away teams have scored the lowest no. of away goals?\n",
        "# \n",
        "%%sql\n",
        "SELECT City, COUNT(Stadium)\n",
        "FROM WorldCup\n",
        "GROUP BY Stadium \n",
        "ORDER BY COUNT(Stadium) ASC LIMIT 3;"
      ],
      "execution_count": null,
      "outputs": []
    },
    {
      "cell_type": "code",
      "metadata": {
        "id": "AEMk4s-m1Jjm"
      },
      "source": [
        "# Challenge 3\n",
        "# Select records from the World Cup Dataset grouping by City \n",
        "# \n",
        "%%sql\n",
        "SELECT City, COUNT(City)\n",
        "FROM WorldCup \n",
        "GROUP BY City; \n"
      ],
      "execution_count": null,
      "outputs": []
    },
    {
      "cell_type": "markdown",
      "metadata": {
        "id": "d1c_SidIx2Pc"
      },
      "source": [
        "##1.11 Null Values\n"
      ]
    },
    {
      "cell_type": "code",
      "metadata": {
        "id": "XyrUTtx_1Yg7"
      },
      "source": [
        "# Example 1\n",
        "# Select any one record from the world cup dataset that has null examples?\n",
        "# \n",
        "%%sql\n",
        "SELECT *\n",
        "FROM WorldCup\n",
        "WHERE Attendance IS NULL LIMIT 1;"
      ],
      "execution_count": null,
      "outputs": []
    },
    {
      "cell_type": "code",
      "metadata": {
        "id": "NhxldRCs1YXo"
      },
      "source": [
        "# Example 2\n",
        "# Select any 5 records without null examples from the Worldcup Dataset \n",
        "#\n",
        "%%sql\n",
        "SELECT *\n",
        "FROM WorldCup\n",
        "WHERE City IS NOT NULL\n",
        "LIMIT 5;"
      ],
      "execution_count": null,
      "outputs": []
    },
    {
      "cell_type": "markdown",
      "metadata": {
        "id": "YncWLSu11Y21"
      },
      "source": [
        "### <font color=\"green\"> 1.11 Challenges</font>"
      ]
    },
    {
      "cell_type": "code",
      "metadata": {
        "id": "04dsl20p1eXH",
        "colab": {
          "base_uri": "https://localhost:8080/",
          "height": 95
        },
        "outputId": "ec840063-61ca-415a-b675-b4dc8100252d"
      },
      "source": [
        "# Challenge 1\n",
        "# Using the Worldcup dataset, select all the records that contain null values?\n",
        "#\n",
        "%%sql\n",
        "SELECT * FROM WorldCup WHERE COALESCE(Year, Datetime, Stage,  Stadium,  \n",
        "City, Home_Team_Name, Home_Team_Goals,  Away_Team_Goals,  Away_Team_Name,\n",
        "  Win_conditions, Attendance, Halftime_Home_Goals,  Halftime_Away_Goals,  Referee,  Assistant1,\n",
        "    Assistant2, RoundID,  MatchID,  Home_Team_Initials, Away_Team_Initials) IS NULL \n",
        "LIMIT 5;"
      ],
      "execution_count": null,
      "outputs": [
        {
          "output_type": "stream",
          "name": "stdout",
          "text": [
            " * sqlite://\n",
            "Done.\n"
          ]
        },
        {
          "output_type": "execute_result",
          "data": {
            "text/html": [
              "<table>\n",
              "    <thead>\n",
              "        <tr>\n",
              "            <th>Year</th>\n",
              "            <th>Datetime</th>\n",
              "            <th>Stage</th>\n",
              "            <th>Stadium</th>\n",
              "            <th>City</th>\n",
              "            <th>Home_Team_Name</th>\n",
              "            <th>Home_Team_Goals</th>\n",
              "            <th>Away_Team_Goals</th>\n",
              "            <th>Away_Team_Name</th>\n",
              "            <th>Win_conditions</th>\n",
              "            <th>Attendance</th>\n",
              "            <th>Halftime_Home_Goals</th>\n",
              "            <th>Halftime_Away_Goals</th>\n",
              "            <th>Referee</th>\n",
              "            <th>Assistant1</th>\n",
              "            <th>Assistant2</th>\n",
              "            <th>RoundID</th>\n",
              "            <th>MatchID</th>\n",
              "            <th>Home_Team_Initials</th>\n",
              "            <th>Away_Team_Initials</th>\n",
              "        </tr>\n",
              "    </thead>\n",
              "    <tbody>\n",
              "    </tbody>\n",
              "</table>"
            ],
            "text/plain": [
              "[]"
            ]
          },
          "metadata": {},
          "execution_count": 6
        }
      ]
    },
    {
      "cell_type": "code",
      "metadata": {
        "id": "L5TBZKqf1eN2"
      },
      "source": [
        "# Challenge 2\n",
        "# Select all the records that do not contain null values from the Interpol dataset\n",
        "#\n",
        "%%sql\n",
        "SELECT * FROM Interpol WHERE COALESCE(\"Country\", \"National Fugitives\",  \"Wanted Fugitives\", \"Possible Hosted Fugitives / Captured Fugitives\", \"Region\", \"Flag\") IS NOT NULL"
      ],
      "execution_count": null,
      "outputs": []
    },
    {
      "cell_type": "code",
      "metadata": {
        "id": "0Dy2oNUMjwlg"
      },
      "source": [
        ""
      ],
      "execution_count": null,
      "outputs": []
    }
  ]
}